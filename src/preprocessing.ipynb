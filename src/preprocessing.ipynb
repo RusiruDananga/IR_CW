{
 "cells": [
  {
   "cell_type": "code",
   "execution_count": 6,
   "metadata": {},
   "outputs": [],
   "source": [
    "import re\n",
    "import nltk\n",
    "import spacy\n",
    "from bs4 import BeautifulSoup\n",
    "from nltk.corpus import stopwords\n",
    "from spellchecker import SpellChecker\n",
    "from nltk.tokenize import word_tokenize\n",
    "from nltk.stem import PorterStemmer\n",
    "from nltk.stem import WordNetLemmatizer\n",
    "from nltk import pos_tag\n",
    "from tqdm import tqdm\n",
    "import json"
   ]
  },
  {
   "cell_type": "code",
   "execution_count": 7,
   "metadata": {},
   "outputs": [
    {
     "name": "stderr",
     "output_type": "stream",
     "text": [
      "[nltk_data] Downloading package punkt to\n",
      "[nltk_data]     C:\\Users\\User\\AppData\\Roaming\\nltk_data...\n",
      "[nltk_data]   Package punkt is already up-to-date!\n",
      "[nltk_data] Downloading package stopwords to\n",
      "[nltk_data]     C:\\Users\\User\\AppData\\Roaming\\nltk_data...\n",
      "[nltk_data]   Package stopwords is already up-to-date!\n",
      "[nltk_data] Downloading package wordnet to\n",
      "[nltk_data]     C:\\Users\\User\\AppData\\Roaming\\nltk_data...\n",
      "[nltk_data]   Package wordnet is already up-to-date!\n",
      "[nltk_data] Downloading package averaged_perceptron_tagger to\n",
      "[nltk_data]     C:\\Users\\User\\AppData\\Roaming\\nltk_data...\n",
      "[nltk_data]   Package averaged_perceptron_tagger is already up-to-\n",
      "[nltk_data]       date!\n"
     ]
    },
    {
     "data": {
      "text/plain": [
       "True"
      ]
     },
     "execution_count": 7,
     "metadata": {},
     "output_type": "execute_result"
    }
   ],
   "source": [
    "nltk.download('punkt')\n",
    "nltk.download('stopwords')\n",
    "nltk.download('wordnet')\n",
    "nltk.download('averaged_perceptron_tagger')"
   ]
  },
  {
   "cell_type": "code",
   "execution_count": 8,
   "metadata": {},
   "outputs": [],
   "source": [
    "spell = SpellChecker()\n",
    "stemmer = PorterStemmer()\n",
    "lemmatizer = WordNetLemmatizer()\n",
    "nlp = spacy.load(\"en_core_web_sm\")"
   ]
  },
  {
   "cell_type": "code",
   "execution_count": 9,
   "metadata": {},
   "outputs": [],
   "source": [
    "%run ../utils/preprocess_util.ipynb"
   ]
  },
  {
   "cell_type": "code",
   "execution_count": 5,
   "metadata": {},
   "outputs": [
    {
     "name": "stderr",
     "output_type": "stream",
     "text": [
      "Removing Stopwords: 100%|██████████| 11104/11104 [00:00<00:00, 2753550.41it/s]\n",
      "Spell Checking and Correction: 100%|██████████| 7135/7135 [06:26<00:00, 18.48it/s] \n",
      "Removing Stopwords: 100%|██████████| 9391/9391 [00:00<00:00, 1607046.47it/s]\n",
      "Spell Checking and Correction: 100%|██████████| 6744/6744 [06:02<00:00, 18.60it/s] \n",
      "Removing Stopwords: 100%|██████████| 11320/11320 [00:00<00:00, 1924819.45it/s]\n",
      "Spell Checking and Correction: 100%|██████████| 8140/8140 [54:32<00:00,  2.49it/s]  \n",
      "Removing Stopwords: 100%|██████████| 3058/3058 [00:00<00:00, 3048771.48it/s]\n",
      "Spell Checking and Correction: 100%|██████████| 1953/1953 [01:02<00:00, 31.48it/s] \n",
      "Removing Stopwords: 100%|██████████| 6902/6902 [00:00<00:00, 1617538.48it/s]\n",
      "Spell Checking and Correction: 100%|██████████| 4551/4551 [02:39<00:00, 28.51it/s] \n",
      "Removing Stopwords: 100%|██████████| 4067/4067 [00:00<00:00, 3968877.24it/s]\n",
      "Spell Checking and Correction: 100%|██████████| 2903/2903 [02:15<00:00, 21.37it/s]\n",
      "Removing Stopwords: 100%|██████████| 5577/5577 [00:00<00:00, 2781076.38it/s]\n",
      "Spell Checking and Correction: 100%|██████████| 3594/3594 [01:56<00:00, 30.85it/s] \n",
      "Removing Stopwords: 100%|██████████| 1356/1356 [00:00<00:00, 1360640.24it/s]\n",
      "Spell Checking and Correction: 100%|██████████| 894/894 [01:04<00:00, 13.82it/s]"
     ]
    },
    {
     "name": "stdout",
     "output_type": "stream",
     "text": [
      "Preprocessed Content Preview: mini review machine learning applications cancer prognosis prediction thesis p b p v b unit medical technology intelligent information systems kept materials science engineering university are eye bim...\n"
     ]
    },
    {
     "name": "stderr",
     "output_type": "stream",
     "text": [
      "\n"
     ]
    }
   ],
   "source": [
    "# Load extracted text from the file\n",
    "input_file = \"crawled_data.json\"\n",
    "pdf_documents = load_crawled_data(input_file)\n",
    "preprocessed_documents = preprocess_crawled_data(pdf_documents)\n",
    "print(f\"Preprocessed Content Preview: {preprocessed_documents[0]['content'][:200]}...\")"
   ]
  },
  {
   "cell_type": "code",
   "execution_count": 10,
   "metadata": {},
   "outputs": [
    {
     "name": "stdout",
     "output_type": "stream",
     "text": [
      "Data successfully saved to preprocessed_data.json\n",
      "Preprocessed documents have been saved to preprocessed_data.json\n"
     ]
    }
   ],
   "source": [
    "output_file = \"preprocessed_data.json\"  # Replace with your desired output file name\n",
    "save_crawled_data_to_json(preprocessed_documents, output_file)\n",
    "\n",
    "print(f\"Preprocessed documents have been saved to {output_file}\")"
   ]
  }
 ],
 "metadata": {
  "kernelspec": {
   "display_name": "Python 3",
   "language": "python",
   "name": "python3"
  },
  "language_info": {
   "codemirror_mode": {
    "name": "ipython",
    "version": 3
   },
   "file_extension": ".py",
   "mimetype": "text/x-python",
   "name": "python",
   "nbconvert_exporter": "python",
   "pygments_lexer": "ipython3",
   "version": "3.12.4"
  }
 },
 "nbformat": 4,
 "nbformat_minor": 2
}
