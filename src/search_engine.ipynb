{
 "cells": [
  {
   "cell_type": "code",
   "execution_count": 1,
   "metadata": {},
   "outputs": [],
   "source": [
    "import json\n",
    "import numpy as np\n",
    "from sklearn.feature_extraction.text import TfidfVectorizer\n",
    "from sklearn.metrics.pairwise import cosine_similarity"
   ]
  },
  {
   "cell_type": "code",
   "execution_count": 9,
   "metadata": {},
   "outputs": [],
   "source": [
    "%run ../utils/search_engine.ipynb"
   ]
  },
  {
   "cell_type": "code",
   "execution_count": 3,
   "metadata": {},
   "outputs": [],
   "source": [
    "# Load preprocessed data\n",
    "input_file = \"preprocessed_data.json\"\n",
    "documents = load_preprocessed_data(input_file)"
   ]
  },
  {
   "cell_type": "code",
   "execution_count": 4,
   "metadata": {},
   "outputs": [],
   "source": [
    "# Extract document names and content\n",
    "document_names = [doc[\"document_name\"] for doc in documents]\n",
    "document_contents = [doc[\"content\"] for doc in documents]"
   ]
  },
  {
   "cell_type": "code",
   "execution_count": 6,
   "metadata": {},
   "outputs": [
    {
     "name": "stdout",
     "output_type": "stream",
     "text": [
      "<Compressed Sparse Row sparse matrix of dtype 'float64'\n",
      "\twith 10302 stored elements and shape (8, 5314)>\n",
      "  Coords\tValues\n",
      "  (0, 3027)\t0.0030361640834519984\n",
      "  (0, 4111)\t0.022366899190037207\n",
      "  (0, 2832)\t0.04042877195894201\n",
      "  (0, 2699)\t0.08409184567459937\n",
      "  (0, 256)\t0.005786993814620057\n",
      "  (0, 641)\t0.7100629399172355\n",
      "  (0, 3728)\t0.08332371233722662\n",
      "  (0, 3629)\t0.1321546166330675\n",
      "  (0, 4840)\t0.007245540203237096\n",
      "  (0, 5034)\t0.007859881469964343\n",
      "  (0, 2962)\t0.02756553482617432\n",
      "  (0, 4781)\t0.0054310116424548275\n",
      "  (0, 2469)\t0.0032343017567153607\n",
      "  (0, 2408)\t0.0202544783511702\n",
      "  (0, 4736)\t0.005786993814620057\n",
      "  (0, 2607)\t0.009108492250355996\n",
      "  (0, 2920)\t0.004594255804362386\n",
      "  (0, 4240)\t0.0032343017567153607\n",
      "  (0, 1592)\t0.0032343017567153607\n",
      "  (0, 5041)\t0.008085754391788403\n",
      "  (0, 280)\t0.011485639510905964\n",
      "  (0, 1798)\t0.0030361640834519984\n",
      "  (0, 510)\t0.003622770101618548\n",
      "  (0, 1927)\t0.003622770101618548\n",
      "  (0, 519)\t0.012144656333807994\n",
      "  :\t:\n",
      "  (7, 646)\t0.02258322799434671\n",
      "  (7, 5120)\t0.02258322799434671\n",
      "  (7, 477)\t0.02258322799434671\n",
      "  (7, 1172)\t0.11291613997173355\n",
      "  (7, 3795)\t0.04516645598869342\n",
      "  (7, 1000)\t0.02258322799434671\n",
      "  (7, 3337)\t0.02258322799434671\n",
      "  (7, 4942)\t0.02258322799434671\n",
      "  (7, 4353)\t0.02258322799434671\n",
      "  (7, 4364)\t0.02258322799434671\n",
      "  (7, 4011)\t0.02258322799434671\n",
      "  (7, 2919)\t0.02258322799434671\n",
      "  (7, 972)\t0.02258322799434671\n",
      "  (7, 2612)\t0.02258322799434671\n",
      "  (7, 4752)\t0.02258322799434671\n",
      "  (7, 2278)\t0.02258322799434671\n",
      "  (7, 3857)\t0.02258322799434671\n",
      "  (7, 3086)\t0.02258322799434671\n",
      "  (7, 4337)\t0.02258322799434671\n",
      "  (7, 4979)\t0.02258322799434671\n",
      "  (7, 3387)\t0.02258322799434671\n",
      "  (7, 3810)\t0.02258322799434671\n",
      "  (7, 3193)\t0.02258322799434671\n",
      "  (7, 2591)\t0.02258322799434671\n",
      "  (7, 1859)\t0.02258322799434671\n"
     ]
    }
   ],
   "source": [
    "# Create TF-IDF vectorizer and fit to document content\n",
    "vectorizer = TfidfVectorizer()\n",
    "tfidf_matrix = vectorizer.fit_transform(document_contents)\n",
    "print(tfidf_matrix)"
   ]
  },
  {
   "cell_type": "code",
   "execution_count": 15,
   "metadata": {},
   "outputs": [],
   "source": [
    "# Example: Process user query\n",
    "user_query = input(\"Enter your search query: \")\n",
    "processed_query = preprocess_query(user_query)"
   ]
  },
  {
   "cell_type": "code",
   "execution_count": 16,
   "metadata": {},
   "outputs": [
    {
     "name": "stdout",
     "output_type": "stream",
     "text": [
      "<Compressed Sparse Row sparse matrix of dtype 'float64'\n",
      "\twith 2 stored elements and shape (1, 5314)>\n",
      "  Coords\tValues\n",
      "  (0, 305)\t0.7457783383592639\n",
      "  (0, 2468)\t0.6661941684179585\n"
     ]
    }
   ],
   "source": [
    "# Transform the processed query into TF-IDF vector\n",
    "query_vector = vectorizer.transform([processed_query])\n",
    "print(query_vector)"
   ]
  },
  {
   "cell_type": "code",
   "execution_count": 17,
   "metadata": {},
   "outputs": [
    {
     "name": "stdout",
     "output_type": "stream",
     "text": [
      "[0.00215467 0.17720284 0.12500572 0.02352262 0.01540357 0.00549774\n",
      " 0.00436192 0.        ]\n"
     ]
    }
   ],
   "source": [
    "# Compute cosine similarity between the query and documents\n",
    "similarity_scores = cosine_similarity(query_vector, tfidf_matrix).flatten()\n",
    "print(similarity_scores)"
   ]
  },
  {
   "cell_type": "code",
   "execution_count": 18,
   "metadata": {},
   "outputs": [
    {
     "name": "stdout",
     "output_type": "stream",
     "text": [
      "[('AI technologies for education_ Recent research & future directions.pdf', 0.17720284018134436), ('Complexity - 2021 - Zhai - A Review of Artificial Intelligence  AI  in Education from 2010 to 2020.pdf', 0.1250057195476056), ('Machine-Learning-Algorithms-A-Review.pdf', 0.02352262194864478), ('A_Survey_on_Big_Data_Analytics_Challenge.pdf', 0.015403573302516054), ('CURMay06.pdf', 0.005497741764435141), ('grossman98-Data-minin-research-opportunities.pdf', 0.0043619191369147865), ('1-s2.0-S2001037014000464-main.pdf', 0.0021546729692276767)]\n"
     ]
    }
   ],
   "source": [
    "# Rank documents by similarity scores\n",
    "ranked_indices = np.argsort(similarity_scores)[::-1]\n",
    "ranked_documents = [(document_names[i], similarity_scores[i]) for i in ranked_indices if similarity_scores[i] > 0]\n",
    "print(ranked_documents)"
   ]
  },
  {
   "cell_type": "code",
   "execution_count": 19,
   "metadata": {},
   "outputs": [
    {
     "name": "stdout",
     "output_type": "stream",
     "text": [
      "Ranked Documents:\n",
      "1. AI technologies for education_ Recent research & future directions.pdf (Score: 0.1772)\n",
      "2. Complexity - 2021 - Zhai - A Review of Artificial Intelligence  AI  in Education from 2010 to 2020.pdf (Score: 0.1250)\n",
      "3. Machine-Learning-Algorithms-A-Review.pdf (Score: 0.0235)\n",
      "4. A_Survey_on_Big_Data_Analytics_Challenge.pdf (Score: 0.0154)\n",
      "5. CURMay06.pdf (Score: 0.0055)\n",
      "6. grossman98-Data-minin-research-opportunities.pdf (Score: 0.0044)\n",
      "7. 1-s2.0-S2001037014000464-main.pdf (Score: 0.0022)\n"
     ]
    }
   ],
   "source": [
    "# Display ranked document names and scores\n",
    "if ranked_documents:\n",
    "    print(\"Ranked Documents:\")\n",
    "    for rank, (doc_name, score) in enumerate(ranked_documents, start=1):\n",
    "        print(f\"{rank}. {doc_name} (Score: {score:.4f})\")\n",
    "else:\n",
    "    print(\"No relevant documents found.\")"
   ]
  }
 ],
 "metadata": {
  "kernelspec": {
   "display_name": "Python 3",
   "language": "python",
   "name": "python3"
  },
  "language_info": {
   "codemirror_mode": {
    "name": "ipython",
    "version": 3
   },
   "file_extension": ".py",
   "mimetype": "text/x-python",
   "name": "python",
   "nbconvert_exporter": "python",
   "pygments_lexer": "ipython3",
   "version": "3.12.4"
  }
 },
 "nbformat": 4,
 "nbformat_minor": 2
}
