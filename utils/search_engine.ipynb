{
 "cells": [
  {
   "cell_type": "code",
   "execution_count": 5,
   "metadata": {},
   "outputs": [],
   "source": [
    "import json\n",
    "import numpy as np\n",
    "from sklearn.feature_extraction.text import TfidfVectorizer\n",
    "from sklearn.metrics.pairwise import cosine_similarity\n",
    "import re"
   ]
  },
  {
   "cell_type": "code",
   "execution_count": 6,
   "metadata": {},
   "outputs": [],
   "source": [
    "def load_preprocessed_data(input_file):\n",
    "    \"\"\"\n",
    "    Load preprocessed data from a JSON file.\n",
    "    \n",
    "    Args:\n",
    "    - input_file (str): Path to the JSON file containing preprocessed documents.\n",
    "    \n",
    "    Returns:\n",
    "    - list of dict: Preprocessed documents.\n",
    "    \"\"\"\n",
    "    with open(input_file, \"r\", encoding=\"utf-8\") as json_file:\n",
    "        return json.load(json_file)"
   ]
  },
  {
   "cell_type": "code",
   "execution_count": 7,
   "metadata": {},
   "outputs": [],
   "source": [
    "def preprocess_query(query):\n",
    "    \"\"\"\n",
    "    Preprocess the search query using the same steps applied to the documents.\n",
    "    \n",
    "    Args:\n",
    "    - query (str): The search query input by the user.\n",
    "    \n",
    "    Returns:\n",
    "    - str: Preprocessed query.\n",
    "    \"\"\"\n",
    "    # Repeat preprocessing steps (lowercase, remove punctuation, etc.)\n",
    "    # For simplicity, use basic steps here.\n",
    "    query = query.lower()  # Lowercasing\n",
    "    query = re.sub(r'[^\\w\\s]', '', query)  # Remove punctuation\n",
    "    query = re.sub(r'\\d+', '', query)  # Remove numbers\n",
    "    return query"
   ]
  }
 ],
 "metadata": {
  "kernelspec": {
   "display_name": "Python 3",
   "language": "python",
   "name": "python3"
  },
  "language_info": {
   "codemirror_mode": {
    "name": "ipython",
    "version": 3
   },
   "file_extension": ".py",
   "mimetype": "text/x-python",
   "name": "python",
   "nbconvert_exporter": "python",
   "pygments_lexer": "ipython3",
   "version": "3.12.4"
  }
 },
 "nbformat": 4,
 "nbformat_minor": 2
}
