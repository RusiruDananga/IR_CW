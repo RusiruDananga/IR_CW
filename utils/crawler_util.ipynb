{
 "cells": [
  {
   "cell_type": "code",
   "execution_count": 4,
   "metadata": {},
   "outputs": [],
   "source": [
    "import os\n",
    "import pdfplumber"
   ]
  },
  {
   "cell_type": "code",
   "execution_count": 5,
   "metadata": {},
   "outputs": [],
   "source": [
    "def parse_robots_txt(file_path):\n",
    "    \"\"\"Parse robots.txt and extract disallowed files for FileCrawler.\"\"\"\n",
    "    disallowed_files = set()\n",
    "    try:\n",
    "        with open(file_path, 'r') as f:\n",
    "            lines = f.readlines()\n",
    "        user_agent_found = False\n",
    "        for line in lines:\n",
    "            line = line.strip()\n",
    "            if line.startswith(\"User-agent:\"):\n",
    "                user_agent_found = line.split(\":\")[1].strip() == \"FileCrawler\"\n",
    "            elif user_agent_found and line.startswith(\"Disallow:\"):\n",
    "                disallowed_file = line.split(\":\")[1].strip()\n",
    "                disallowed_files.add(disallowed_file)\n",
    "            elif line == \"\":\n",
    "                user_agent_found = False\n",
    "    except Exception as e:\n",
    "        print(f\"Error reading robots.txt at {file_path}: {e}\")\n",
    "    return disallowed_files"
   ]
  },
  {
   "cell_type": "code",
   "execution_count": 6,
   "metadata": {},
   "outputs": [],
   "source": [
    "def extract_text_from_pdf(file_path):\n",
    "    \"\"\"Extract text from a PDF file.\"\"\"\n",
    "    try:\n",
    "        with pdfplumber.open(file_path) as pdf:\n",
    "            text = ''\n",
    "            for page in pdf.pages:\n",
    "                text += page.extract_text()\n",
    "        return text\n",
    "    except Exception as e:\n",
    "        print(f\"Error reading {file_path}: {e}\")\n",
    "        return None"
   ]
  },
  {
   "cell_type": "code",
   "execution_count": 7,
   "metadata": {},
   "outputs": [],
   "source": [
    "def crawl_and_extract(data_folder):\n",
    "    \"\"\"Crawl through the data folder and extract text from PDF files.\"\"\"\n",
    "    pdf_contents = {}\n",
    "    for root, _, files in os.walk(data_folder):\n",
    "        # Check for a robots.txt file\n",
    "        robots_txt_path = os.path.join(root, \"robots.txt\")\n",
    "        disallowed_files = parse_robots_txt(robots_txt_path) if os.path.exists(robots_txt_path) else set()\n",
    "        \n",
    "        for file in files:\n",
    "            if file.endswith('.pdf') and f\"/{file}\" not in disallowed_files:\n",
    "                file_path = os.path.join(root, file)\n",
    "                print(f\"Processing: {file_path}\")\n",
    "                text = extract_text_from_pdf(file_path)\n",
    "                if text:\n",
    "                    pdf_contents[file_path] = text\n",
    "            elif file.endswith('.pdf'):\n",
    "                print(f\"Skipping disallowed file: {file}\")\n",
    "    return pdf_contents"
   ]
  }
 ],
 "metadata": {
  "kernelspec": {
   "display_name": "Python 3",
   "language": "python",
   "name": "python3"
  },
  "language_info": {
   "codemirror_mode": {
    "name": "ipython",
    "version": 3
   },
   "file_extension": ".py",
   "mimetype": "text/x-python",
   "name": "python",
   "nbconvert_exporter": "python",
   "pygments_lexer": "ipython3",
   "version": "3.12.4"
  }
 },
 "nbformat": 4,
 "nbformat_minor": 2
}
