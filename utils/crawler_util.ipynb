{
 "cells": [
  {
   "cell_type": "code",
   "execution_count": 1,
   "metadata": {},
   "outputs": [],
   "source": [
    "import os\n",
    "import pdfplumber\n",
    "import json\n",
    "from PyPDF2 import PdfReader"
   ]
  },
  {
   "cell_type": "code",
   "execution_count": null,
   "metadata": {},
   "outputs": [],
   "source": [
    "def parse_robots_txt(folder_path):\n",
    "    \"\"\"\n",
    "    Parses the robots.txt file in the given folder, if it exists, \n",
    "    to extract the disallowed PDF file names.\n",
    "\n",
    "    Args:\n",
    "    - folder_path (str): The path to the folder.\n",
    "\n",
    "    Returns:\n",
    "    - set: A set of disallowed file names.\n",
    "    \"\"\"\n",
    "    disallowed_files = set()\n",
    "    robots_path = os.path.join(folder_path, \"robots.txt\")\n",
    "    if os.path.exists(robots_path):\n",
    "        with open(robots_path, \"r\") as file:\n",
    "            for line in file:\n",
    "                line = line.strip()\n",
    "                if line.startswith(\"Disallow:\"):\n",
    "                    # Extract the file name after \"Disallow: \"\n",
    "                    disallowed_file = line.split(\"Disallow: \")[1].strip()\n",
    "                    disallowed_files.add(disallowed_file)\n",
    "    return disallowed_files"
   ]
  },
  {
   "cell_type": "code",
   "execution_count": 3,
   "metadata": {},
   "outputs": [],
   "source": [
    "def extract_pdf_content(file_path):\n",
    "    \"\"\"\n",
    "    Extracts text content from a PDF file.\n",
    "\n",
    "    Args:\n",
    "    - file_path (str): Path to the PDF file.\n",
    "\n",
    "    Returns:\n",
    "    - str: The extracted text content.\n",
    "    \"\"\"\n",
    "    try:\n",
    "        reader = PdfReader(file_path)\n",
    "        content = \"\"\n",
    "        for page in reader.pages:\n",
    "            content += page.extract_text()\n",
    "        return content\n",
    "    except Exception as e:\n",
    "        print(f\"Error reading {file_path}: {e}\")\n",
    "        return \"\""
   ]
  },
  {
   "cell_type": "code",
   "execution_count": null,
   "metadata": {},
   "outputs": [],
   "source": [
    "def crawl_pdfs_with_content(folder_path):\n",
    "    \"\"\"\n",
    "    Crawls through the folder to find all PDF files, respecting robots.txt,\n",
    "    and extracts their content.\n",
    "\n",
    "    Args:\n",
    "    - folder_path (str): The path to the folder containing the PDF documents.\n",
    "\n",
    "    Returns:\n",
    "    - list of dict: A list where each dictionary contains the document name, \n",
    "      file path, and content.\n",
    "    \"\"\"\n",
    "    pdf_files = []\n",
    "    for root, dirs, files in os.walk(folder_path):\n",
    "        # Check robots.txt in the current directory\n",
    "        disallowed_files = parse_robots_txt(root)\n",
    "        \n",
    "        for file in files:\n",
    "            if file.endswith(\".pdf\") and file not in disallowed_files:\n",
    "                file_path = os.path.join(root, file)\n",
    "                content = extract_pdf_content(file_path)\n",
    "                pdf_files.append({\n",
    "                    \"document_name\": file,\n",
    "                    \"file_path\": file_path,\n",
    "                    \"content\": content\n",
    "                })\n",
    "    return pdf_files"
   ]
  },
  {
   "cell_type": "code",
   "execution_count": 5,
   "metadata": {},
   "outputs": [],
   "source": [
    "def save_crawled_data_to_json(data, output_file):\n",
    "    \"\"\"\n",
    "    Saves the crawled PDF data into a JSON file.\n",
    "\n",
    "    Args:\n",
    "    - data (list of dict): The crawled PDF data to save.\n",
    "    - output_file (str): The path to the output JSON file.\n",
    "    \"\"\"\n",
    "    try:\n",
    "        with open(output_file, \"w\", encoding=\"utf-8\") as json_file:\n",
    "            json.dump(data, json_file, indent=4, ensure_ascii=False)\n",
    "        print(f\"Data successfully saved to {output_file}\")\n",
    "    except Exception as e:\n",
    "        print(f\"An error occurred while saving to JSON: {e}\")"
   ]
  }
 ],
 "metadata": {
  "kernelspec": {
   "display_name": "Python 3",
   "language": "python",
   "name": "python3"
  },
  "language_info": {
   "codemirror_mode": {
    "name": "ipython",
    "version": 3
   },
   "file_extension": ".py",
   "mimetype": "text/x-python",
   "name": "python",
   "nbconvert_exporter": "python",
   "pygments_lexer": "ipython3",
   "version": "3.12.4"
  }
 },
 "nbformat": 4,
 "nbformat_minor": 2
}
