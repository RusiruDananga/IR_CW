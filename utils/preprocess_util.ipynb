{
 "cells": [
  {
   "cell_type": "code",
   "execution_count": 9,
   "metadata": {},
   "outputs": [],
   "source": [
    "import re\n",
    "import nltk\n",
    "import spacy\n",
    "from bs4 import BeautifulSoup\n",
    "from nltk.corpus import stopwords\n",
    "from spellchecker import SpellChecker\n",
    "from nltk.tokenize import word_tokenize\n",
    "from nltk.tokenize.treebank import TreebankWordDetokenizer\n",
    "from nltk.stem import PorterStemmer\n",
    "from nltk.stem import WordNetLemmatizer\n",
    "from nltk import pos_tag\n",
    "from tqdm import tqdm\n",
    "import json"
   ]
  },
  {
   "cell_type": "code",
   "execution_count": 10,
   "metadata": {},
   "outputs": [],
   "source": [
    "def preprocess_text(text):\n",
    "    # 1. Lowercasing\n",
    "    text = text.lower()\n",
    "    \n",
    "    # 2. Remove HTML tags\n",
    "    text = BeautifulSoup(text, \"html.parser\").get_text()\n",
    "    \n",
    "    # 3. Remove punctuation\n",
    "    text = re.sub(r\"[^\\w\\s]\", \" \", text)\n",
    "    \n",
    "    # 4. Remove numbers\n",
    "    text = re.sub(r\"\\d+\", \"\", text)\n",
    "    \n",
    "    # 5. Tokenization\n",
    "    doc = nlp(text)\n",
    "    tokens = [token.text for token in doc if not token.is_space]\n",
    "    \n",
    "    # 6. Remove stopwords\n",
    "    stop_words = set(stopwords.words(\"english\"))\n",
    "    filtered_tokens = []\n",
    "    for token in tqdm(tokens, desc=\"Removing Stopwords\"):\n",
    "        if token not in stop_words:\n",
    "            filtered_tokens.append(token)\n",
    "    tokens = filtered_tokens\n",
    "    \n",
    "    # 7. Spell Checking and Correction\n",
    "    corrected_tokens = []\n",
    "    for token in tqdm(tokens, desc=\"Spell Checking and Correction\"):\n",
    "        corrected_tokens.append(spell.correction(token))\n",
    "    tokens = corrected_tokens\n",
    "    \n",
    "    # 8. Lemmatization (using SpaCy for better quality lemmatization)\n",
    "    # doc = nlp(' '.join(tokens))\n",
    "    # tokens = [token.lemma_ for token in doc]\n",
    "    \n",
    "    tokens = [token for token in tokens if token is not None and token != \"\"]\n",
    "    \n",
    "    # 9. Detokenize the tokens back into a single string\n",
    "    text = TreebankWordDetokenizer().detokenize(tokens)\n",
    "\n",
    "    return text"
   ]
  },
  {
   "cell_type": "code",
   "execution_count": 11,
   "metadata": {},
   "outputs": [],
   "source": [
    "def load_crawled_data(input_file):\n",
    "    with open(input_file, \"r\", encoding=\"utf-8\") as json_file:\n",
    "        return json.load(json_file)"
   ]
  },
  {
   "cell_type": "code",
   "execution_count": 12,
   "metadata": {},
   "outputs": [],
   "source": [
    "def preprocess_crawled_data(pdf_documents):\n",
    "    for doc in pdf_documents:\n",
    "        doc['content'] = preprocess_text(doc['content'])\n",
    "    return pdf_documents"
   ]
  }
 ],
 "metadata": {
  "kernelspec": {
   "display_name": "Python 3",
   "language": "python",
   "name": "python3"
  },
  "language_info": {
   "codemirror_mode": {
    "name": "ipython",
    "version": 3
   },
   "file_extension": ".py",
   "mimetype": "text/x-python",
   "name": "python",
   "nbconvert_exporter": "python",
   "pygments_lexer": "ipython3",
   "version": "3.12.4"
  }
 },
 "nbformat": 4,
 "nbformat_minor": 2
}
