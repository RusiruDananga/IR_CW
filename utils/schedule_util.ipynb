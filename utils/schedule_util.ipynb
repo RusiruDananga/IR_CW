{
 "cells": [
  {
   "cell_type": "code",
   "execution_count": 3,
   "metadata": {},
   "outputs": [],
   "source": [
    "import schedule\n",
    "import time\n",
    "import subprocess"
   ]
  },
  {
   "cell_type": "code",
   "execution_count": 5,
   "metadata": {},
   "outputs": [],
   "source": [
    "def run_crawler_notebook():\n",
    "    \"\"\"Run the crawler.ipynb notebook.\"\"\"\n",
    "    try:\n",
    "        print(\"Starting the crawler notebook...\")\n",
    "        subprocess.run([\"jupyter\", \"nbconvert\", \"--to\", \"notebook\", \"--execute\", \"--output\", \"output.ipynb\", \"crawler.ipynb\"], check=True)\n",
    "        print(\"Crawler notebook completed.\")\n",
    "    except subprocess.CalledProcessError as e:\n",
    "        print(f\"Error running the crawler notebook: {e}\")"
   ]
  }
 ],
 "metadata": {
  "kernelspec": {
   "display_name": "Python 3",
   "language": "python",
   "name": "python3"
  },
  "language_info": {
   "codemirror_mode": {
    "name": "ipython",
    "version": 3
   },
   "file_extension": ".py",
   "mimetype": "text/x-python",
   "name": "python",
   "nbconvert_exporter": "python",
   "pygments_lexer": "ipython3",
   "version": "3.12.4"
  }
 },
 "nbformat": 4,
 "nbformat_minor": 2
}
